{
 "cells": [
  {
   "cell_type": "markdown",
   "metadata": {
    "_kg_hide-input": true,
    "execution": {
     "iopub.execute_input": "2025-09-24T05:03:49.031417Z",
     "iopub.status.busy": "2025-09-24T05:03:49.031068Z",
     "iopub.status.idle": "2025-09-24T05:03:49.038942Z",
     "shell.execute_reply": "2025-09-24T05:03:49.038006Z",
     "shell.execute_reply.started": "2025-09-24T05:03:49.031392Z"
    },
    "trusted": true
   },
   "source": [
    "## About DistilBERT\n",
    "\n",
    "**DistilBERT** is a compressed version of **BERT-base** designed to be smaller, faster, and lighter:  \n",
    "\n",
    "| Property | DistilBERT | BERT-base |\n",
    "|----------|------------|-----------|\n",
    "| Hidden layers | 6 | 12 |\n",
    "| Hidden size | 768 | 768 |\n",
    "| Attention heads | 12 | 12 |\n",
    "| Parameters | ~66M | ~110M |\n",
    "| Vocabulary size | 30,000 | 30,000 |\n",
    "| Training method | Knowledge Distillation from BERT | Standard pretraining on masked LM & next sentence prediction |\n",
    "| Speed | ~60% faster | Baseline |\n",
    "| Size | ~40% smaller | Baseline |\n",
    "\n",
    "**Key points:**  \n",
    "- Trained using **knowledge distillation**, learning from BERT-base (teacher model).  \n",
    "- Retains ~97% of BERT-base performance on GLUE benchmark.  \n",
    "- Ideal for fine-tuning on **text classification**, **NER**, or other NLP tasks with limited compute.  \n",
    "\n",
    "> In this notebook, we fine-tune **DistilBERT** on the **Sentiment140** dataset for binary sentiment classification.\n"
   ]
  },
  {
   "cell_type": "markdown",
   "metadata": {},
   "source": [
    "#### Importing libraries"
   ]
  },
  {
   "cell_type": "code",
   "execution_count": null,
   "metadata": {
    "trusted": true
   },
   "outputs": [],
   "source": [
    "import numpy as np\n",
    "import pandas as pd\n",
    "from matplotlib import pyplot as plt\n",
    "from datasets import Dataset\n",
    "from sklearn.metrics import accuracy_score,classification_report\n",
    "from sklearn.model_selection import train_test_split,StratifiedShuffleSplit\n",
    "from transformers import (\n",
    "AutoTokenizer,AutoModelForSequenceClassification,TrainingArguments,Trainer\n",
    ")\n",
    "import torch\n",
    "device=torch.device('cuda' if torch.cuda.is_available() else 'cpu')\n",
    "print(device)"
   ]
  },
  {
   "cell_type": "markdown",
   "metadata": {},
   "source": [
    "#### Data ingestion and Preprocessing"
   ]
  },
  {
   "cell_type": "code",
   "execution_count": null,
   "metadata": {
    "trusted": true
   },
   "outputs": [],
   "source": [
    "# Ingesting the data\n",
    "df_tweet=pd.read_csv('/kaggle/input/sentiment140/training.1600000.processed.noemoticon.csv',encoding='ISO-8859-1')\n",
    "\n",
    "# Resetting the column name\n",
    "df_tweet.iloc[-1]=df_tweet.columns\n",
    "df_tweet=df_tweet.sort_index().reset_index(drop=True)"
   ]
  },
  {
   "cell_type": "code",
   "execution_count": 4,
   "metadata": {
    "execution": {
     "iopub.execute_input": "2025-09-23T10:52:05.291212Z",
     "iopub.status.busy": "2025-09-23T10:52:05.290999Z",
     "iopub.status.idle": "2025-09-23T10:52:05.317874Z",
     "shell.execute_reply": "2025-09-23T10:52:05.317262Z",
     "shell.execute_reply.started": "2025-09-23T10:52:05.291196Z"
    },
    "trusted": true
   },
   "outputs": [
    {
     "data": {
      "text/html": [
       "<div>\n",
       "<style scoped>\n",
       "    .dataframe tbody tr th:only-of-type {\n",
       "        vertical-align: middle;\n",
       "    }\n",
       "\n",
       "    .dataframe tbody tr th {\n",
       "        vertical-align: top;\n",
       "    }\n",
       "\n",
       "    .dataframe thead th {\n",
       "        text-align: right;\n",
       "    }\n",
       "</style>\n",
       "<table border=\"1\" class=\"dataframe\">\n",
       "  <thead>\n",
       "    <tr style=\"text-align: right;\">\n",
       "      <th></th>\n",
       "      <th>0</th>\n",
       "      <th>1467810369</th>\n",
       "      <th>Mon Apr 06 22:19:45 PDT 2009</th>\n",
       "      <th>NO_QUERY</th>\n",
       "      <th>_TheSpecialOne_</th>\n",
       "      <th>@switchfoot http://twitpic.com/2y1zl - Awww, that's a bummer.  You shoulda got David Carr of Third Day to do it. ;D</th>\n",
       "    </tr>\n",
       "  </thead>\n",
       "  <tbody>\n",
       "    <tr>\n",
       "      <th>0</th>\n",
       "      <td>0</td>\n",
       "      <td>1467810672</td>\n",
       "      <td>Mon Apr 06 22:19:49 PDT 2009</td>\n",
       "      <td>NO_QUERY</td>\n",
       "      <td>scotthamilton</td>\n",
       "      <td>is upset that he can't update his Facebook by ...</td>\n",
       "    </tr>\n",
       "    <tr>\n",
       "      <th>1</th>\n",
       "      <td>0</td>\n",
       "      <td>1467810917</td>\n",
       "      <td>Mon Apr 06 22:19:53 PDT 2009</td>\n",
       "      <td>NO_QUERY</td>\n",
       "      <td>mattycus</td>\n",
       "      <td>@Kenichan I dived many times for the ball. Man...</td>\n",
       "    </tr>\n",
       "    <tr>\n",
       "      <th>2</th>\n",
       "      <td>0</td>\n",
       "      <td>1467811184</td>\n",
       "      <td>Mon Apr 06 22:19:57 PDT 2009</td>\n",
       "      <td>NO_QUERY</td>\n",
       "      <td>ElleCTF</td>\n",
       "      <td>my whole body feels itchy and like its on fire</td>\n",
       "    </tr>\n",
       "    <tr>\n",
       "      <th>3</th>\n",
       "      <td>0</td>\n",
       "      <td>1467811193</td>\n",
       "      <td>Mon Apr 06 22:19:57 PDT 2009</td>\n",
       "      <td>NO_QUERY</td>\n",
       "      <td>Karoli</td>\n",
       "      <td>@nationwideclass no, it's not behaving at all....</td>\n",
       "    </tr>\n",
       "    <tr>\n",
       "      <th>4</th>\n",
       "      <td>0</td>\n",
       "      <td>1467811372</td>\n",
       "      <td>Mon Apr 06 22:20:00 PDT 2009</td>\n",
       "      <td>NO_QUERY</td>\n",
       "      <td>joy_wolf</td>\n",
       "      <td>@Kwesidei not the whole crew</td>\n",
       "    </tr>\n",
       "  </tbody>\n",
       "</table>\n",
       "</div>"
      ],
      "text/plain": [
       "   0  1467810369  Mon Apr 06 22:19:45 PDT 2009  NO_QUERY _TheSpecialOne_  \\\n",
       "0  0  1467810672  Mon Apr 06 22:19:49 PDT 2009  NO_QUERY   scotthamilton   \n",
       "1  0  1467810917  Mon Apr 06 22:19:53 PDT 2009  NO_QUERY        mattycus   \n",
       "2  0  1467811184  Mon Apr 06 22:19:57 PDT 2009  NO_QUERY         ElleCTF   \n",
       "3  0  1467811193  Mon Apr 06 22:19:57 PDT 2009  NO_QUERY          Karoli   \n",
       "4  0  1467811372  Mon Apr 06 22:20:00 PDT 2009  NO_QUERY        joy_wolf   \n",
       "\n",
       "  @switchfoot http://twitpic.com/2y1zl - Awww, that's a bummer.  You shoulda got David Carr of Third Day to do it. ;D  \n",
       "0  is upset that he can't update his Facebook by ...                                                                   \n",
       "1  @Kenichan I dived many times for the ball. Man...                                                                   \n",
       "2    my whole body feels itchy and like its on fire                                                                    \n",
       "3  @nationwideclass no, it's not behaving at all....                                                                   \n",
       "4                      @Kwesidei not the whole crew                                                                    "
      ]
     },
     "execution_count": 4,
     "metadata": {},
     "output_type": "execute_result"
    }
   ],
   "source": [
    "df_tweet.head()"
   ]
  },
  {
   "cell_type": "code",
   "execution_count": 5,
   "metadata": {
    "execution": {
     "iopub.execute_input": "2025-09-23T10:52:05.318802Z",
     "iopub.status.busy": "2025-09-23T10:52:05.318553Z",
     "iopub.status.idle": "2025-09-23T10:52:05.389542Z",
     "shell.execute_reply": "2025-09-23T10:52:05.389003Z",
     "shell.execute_reply.started": "2025-09-23T10:52:05.318779Z"
    },
    "trusted": true
   },
   "outputs": [],
   "source": [
    "# Renaming the columns\n",
    "df_tweet.columns=['target','id','date','query_status','username','tweet']\n",
    "\n",
    "# Selecting only required columns for LLM\n",
    "df_tweet=df_tweet[['id','tweet','target']]"
   ]
  },
  {
   "cell_type": "code",
   "execution_count": 6,
   "metadata": {
    "execution": {
     "iopub.execute_input": "2025-09-23T10:52:05.390440Z",
     "iopub.status.busy": "2025-09-23T10:52:05.390198Z",
     "iopub.status.idle": "2025-09-23T10:52:05.397679Z",
     "shell.execute_reply": "2025-09-23T10:52:05.397067Z",
     "shell.execute_reply.started": "2025-09-23T10:52:05.390419Z"
    },
    "trusted": true
   },
   "outputs": [
    {
     "data": {
      "text/html": [
       "<div>\n",
       "<style scoped>\n",
       "    .dataframe tbody tr th:only-of-type {\n",
       "        vertical-align: middle;\n",
       "    }\n",
       "\n",
       "    .dataframe tbody tr th {\n",
       "        vertical-align: top;\n",
       "    }\n",
       "\n",
       "    .dataframe thead th {\n",
       "        text-align: right;\n",
       "    }\n",
       "</style>\n",
       "<table border=\"1\" class=\"dataframe\">\n",
       "  <thead>\n",
       "    <tr style=\"text-align: right;\">\n",
       "      <th></th>\n",
       "      <th>id</th>\n",
       "      <th>tweet</th>\n",
       "      <th>target</th>\n",
       "    </tr>\n",
       "  </thead>\n",
       "  <tbody>\n",
       "    <tr>\n",
       "      <th>0</th>\n",
       "      <td>1467810672</td>\n",
       "      <td>is upset that he can't update his Facebook by ...</td>\n",
       "      <td>0</td>\n",
       "    </tr>\n",
       "    <tr>\n",
       "      <th>1</th>\n",
       "      <td>1467810917</td>\n",
       "      <td>@Kenichan I dived many times for the ball. Man...</td>\n",
       "      <td>0</td>\n",
       "    </tr>\n",
       "    <tr>\n",
       "      <th>2</th>\n",
       "      <td>1467811184</td>\n",
       "      <td>my whole body feels itchy and like its on fire</td>\n",
       "      <td>0</td>\n",
       "    </tr>\n",
       "    <tr>\n",
       "      <th>3</th>\n",
       "      <td>1467811193</td>\n",
       "      <td>@nationwideclass no, it's not behaving at all....</td>\n",
       "      <td>0</td>\n",
       "    </tr>\n",
       "    <tr>\n",
       "      <th>4</th>\n",
       "      <td>1467811372</td>\n",
       "      <td>@Kwesidei not the whole crew</td>\n",
       "      <td>0</td>\n",
       "    </tr>\n",
       "  </tbody>\n",
       "</table>\n",
       "</div>"
      ],
      "text/plain": [
       "           id                                              tweet target\n",
       "0  1467810672  is upset that he can't update his Facebook by ...      0\n",
       "1  1467810917  @Kenichan I dived many times for the ball. Man...      0\n",
       "2  1467811184    my whole body feels itchy and like its on fire       0\n",
       "3  1467811193  @nationwideclass no, it's not behaving at all....      0\n",
       "4  1467811372                      @Kwesidei not the whole crew       0"
      ]
     },
     "execution_count": 6,
     "metadata": {},
     "output_type": "execute_result"
    }
   ],
   "source": [
    "df_tweet.head()"
   ]
  },
  {
   "cell_type": "code",
   "execution_count": 7,
   "metadata": {
    "execution": {
     "iopub.execute_input": "2025-09-23T10:52:05.401559Z",
     "iopub.status.busy": "2025-09-23T10:52:05.401192Z",
     "iopub.status.idle": "2025-09-23T10:52:05.442194Z",
     "shell.execute_reply": "2025-09-23T10:52:05.441449Z",
     "shell.execute_reply.started": "2025-09-23T10:52:05.401541Z"
    },
    "trusted": true
   },
   "outputs": [
    {
     "data": {
      "text/plain": [
       "array([0, 4, '0'], dtype=object)"
      ]
     },
     "execution_count": 7,
     "metadata": {},
     "output_type": "execute_result"
    }
   ],
   "source": [
    "df_tweet['target'].unique()"
   ]
  },
  {
   "cell_type": "code",
   "execution_count": 8,
   "metadata": {
    "execution": {
     "iopub.execute_input": "2025-09-23T10:52:05.443225Z",
     "iopub.status.busy": "2025-09-23T10:52:05.442920Z",
     "iopub.status.idle": "2025-09-23T10:52:05.927054Z",
     "shell.execute_reply": "2025-09-23T10:52:05.926427Z",
     "shell.execute_reply.started": "2025-09-23T10:52:05.443201Z"
    },
    "trusted": true
   },
   "outputs": [],
   "source": [
    "# Convert entire target column to int\n",
    "df_tweet['target']=df_tweet['target'].astype(str).astype(int)\n",
    "\n",
    "# Maping lables: 0(Negative)->0,4(Positive)->1\n",
    "df_tweet['target']=df_tweet['target'].replace({\n",
    "                                              0:0,\n",
    "                                                4:1})"
   ]
  },
  {
   "cell_type": "code",
   "execution_count": 9,
   "metadata": {
    "execution": {
     "iopub.execute_input": "2025-09-23T10:52:05.928033Z",
     "iopub.status.busy": "2025-09-23T10:52:05.927751Z",
     "iopub.status.idle": "2025-09-23T10:52:05.945728Z",
     "shell.execute_reply": "2025-09-23T10:52:05.945205Z",
     "shell.execute_reply.started": "2025-09-23T10:52:05.928011Z"
    },
    "trusted": true
   },
   "outputs": [
    {
     "name": "stdout",
     "output_type": "stream",
     "text": [
      "[0 1]\n"
     ]
    }
   ],
   "source": [
    "print(df_tweet['target'].unique())"
   ]
  },
  {
   "cell_type": "code",
   "execution_count": 10,
   "metadata": {
    "execution": {
     "iopub.execute_input": "2025-09-23T10:52:05.946645Z",
     "iopub.status.busy": "2025-09-23T10:52:05.946413Z",
     "iopub.status.idle": "2025-09-23T10:52:06.046219Z",
     "shell.execute_reply": "2025-09-23T10:52:06.045631Z",
     "shell.execute_reply.started": "2025-09-23T10:52:05.946628Z"
    },
    "trusted": true
   },
   "outputs": [],
   "source": [
    "# Taking 200k Tweets for training the model\n",
    "df_0=df_tweet.loc[df_tweet['target']==0].head(100000)\n",
    "df_1=df_tweet.loc[df_tweet['target']==1].head(100000)\n",
    "\n",
    "df_tweet=pd.concat([df_1,df_0]).sample(frac=1,random_state=42)"
   ]
  },
  {
   "cell_type": "code",
   "execution_count": 11,
   "metadata": {
    "execution": {
     "iopub.execute_input": "2025-09-23T10:52:06.047191Z",
     "iopub.status.busy": "2025-09-23T10:52:06.046935Z",
     "iopub.status.idle": "2025-09-23T10:52:06.058291Z",
     "shell.execute_reply": "2025-09-23T10:52:06.057422Z",
     "shell.execute_reply.started": "2025-09-23T10:52:06.047171Z"
    },
    "trusted": true
   },
   "outputs": [
    {
     "data": {
      "text/plain": [
       "target\n",
       "0    100000\n",
       "1    100000\n",
       "Name: count, dtype: int64"
      ]
     },
     "execution_count": 11,
     "metadata": {},
     "output_type": "execute_result"
    }
   ],
   "source": [
    "df_tweet.target.value_counts()"
   ]
  },
  {
   "cell_type": "code",
   "execution_count": 12,
   "metadata": {
    "execution": {
     "iopub.execute_input": "2025-09-23T10:52:06.059324Z",
     "iopub.status.busy": "2025-09-23T10:52:06.059074Z",
     "iopub.status.idle": "2025-09-23T10:52:06.076408Z",
     "shell.execute_reply": "2025-09-23T10:52:06.075695Z",
     "shell.execute_reply.started": "2025-09-23T10:52:06.059303Z"
    },
    "trusted": true
   },
   "outputs": [
    {
     "data": {
      "text/html": [
       "<div>\n",
       "<style scoped>\n",
       "    .dataframe tbody tr th:only-of-type {\n",
       "        vertical-align: middle;\n",
       "    }\n",
       "\n",
       "    .dataframe tbody tr th {\n",
       "        vertical-align: top;\n",
       "    }\n",
       "\n",
       "    .dataframe thead th {\n",
       "        text-align: right;\n",
       "    }\n",
       "</style>\n",
       "<table border=\"1\" class=\"dataframe\">\n",
       "  <thead>\n",
       "    <tr style=\"text-align: right;\">\n",
       "      <th></th>\n",
       "      <th>id</th>\n",
       "      <th>tweet</th>\n",
       "      <th>target</th>\n",
       "    </tr>\n",
       "  </thead>\n",
       "  <tbody>\n",
       "    <tr>\n",
       "      <th>19737</th>\n",
       "      <td>1556921271</td>\n",
       "      <td>@CirculatingLib Sorry you've had such a crap d...</td>\n",
       "      <td>0</td>\n",
       "    </tr>\n",
       "    <tr>\n",
       "      <th>872271</th>\n",
       "      <td>1678973912</td>\n",
       "      <td>I shall wake up earlier tmr to continue work. ...</td>\n",
       "      <td>1</td>\n",
       "    </tr>\n",
       "    <tr>\n",
       "      <th>58154</th>\n",
       "      <td>1685832754</td>\n",
       "      <td>needs to get a few hours of sleep before she h...</td>\n",
       "      <td>0</td>\n",
       "    </tr>\n",
       "    <tr>\n",
       "      <th>865425</th>\n",
       "      <td>1677459360</td>\n",
       "      <td>@missgiggly hazzah - me too</td>\n",
       "      <td>1</td>\n",
       "    </tr>\n",
       "    <tr>\n",
       "      <th>830073</th>\n",
       "      <td>1557256819</td>\n",
       "      <td>@Dannymcfly http://twitpic.com/3iqyf - hot  la...</td>\n",
       "      <td>1</td>\n",
       "    </tr>\n",
       "  </tbody>\n",
       "</table>\n",
       "</div>"
      ],
      "text/plain": [
       "                id                                              tweet  target\n",
       "19737   1556921271  @CirculatingLib Sorry you've had such a crap d...       0\n",
       "872271  1678973912  I shall wake up earlier tmr to continue work. ...       1\n",
       "58154   1685832754  needs to get a few hours of sleep before she h...       0\n",
       "865425  1677459360                       @missgiggly hazzah - me too        1\n",
       "830073  1557256819  @Dannymcfly http://twitpic.com/3iqyf - hot  la...       1"
      ]
     },
     "execution_count": 12,
     "metadata": {},
     "output_type": "execute_result"
    }
   ],
   "source": [
    "df_tweet.head()"
   ]
  },
  {
   "cell_type": "code",
   "execution_count": 13,
   "metadata": {
    "execution": {
     "iopub.execute_input": "2025-09-23T10:52:06.077590Z",
     "iopub.status.busy": "2025-09-23T10:52:06.077247Z",
     "iopub.status.idle": "2025-09-23T10:52:06.565346Z",
     "shell.execute_reply": "2025-09-23T10:52:06.564704Z",
     "shell.execute_reply.started": "2025-09-23T10:52:06.077568Z"
    },
    "trusted": true
   },
   "outputs": [
    {
     "data": {
      "image/png": "[encoded data removed]",
      "text/plain": [
       "<Figure size 640x480 with 1 Axes>"
      ]
     },
     "metadata": {},
     "output_type": "display_data"
    }
   ],
   "source": [
    "import seaborn as sns\n",
    "\n",
    "# Class Distribution\n",
    "sns.countplot(x='target', data=df_tweet)\n",
    "plt.xticks([0,1,2], ['Negative','Positive','Neutral'])\n",
    "plt.title('Tweet Sentiment Distribution')\n",
    "plt.show()"
   ]
  },
  {
   "cell_type": "code",
   "execution_count": 14,
   "metadata": {
    "execution": {
     "iopub.execute_input": "2025-09-23T10:52:06.566522Z",
     "iopub.status.busy": "2025-09-23T10:52:06.566066Z",
     "iopub.status.idle": "2025-09-23T10:52:06.650356Z",
     "shell.execute_reply": "2025-09-23T10:52:06.649722Z",
     "shell.execute_reply.started": "2025-09-23T10:52:06.566503Z"
    },
    "trusted": true
   },
   "outputs": [
    {
     "name": "stdout",
     "output_type": "stream",
     "text": [
      "140000\n",
      "60000\n"
     ]
    }
   ],
   "source": [
    "# Initialize StratifiedShuffleSplit with 1 split, 70% train, 30% validation\n",
    "sss = StratifiedShuffleSplit(n_splits=1, test_size=0.30, random_state=42)\n",
    "\n",
    "# Split the dataset while preserving the label distribution\n",
    "for train_index, val_index in sss.split(df_tweet['tweet'], df_tweet['target']):\n",
    "    # Convert the pandas series to lists for tokenization\n",
    "    train_texts = df_tweet[\"tweet\"].iloc[train_index].tolist()\n",
    "    val_texts   = df_tweet[\"tweet\"].iloc[val_index].tolist()\n",
    "    train_labels = df_tweet[\"target\"].iloc[train_index].tolist()\n",
    "    val_labels   = df_tweet[\"target\"].iloc[val_index].tolist()\n",
    "\n",
    "print(len(train_texts))\n",
    "print(len(val_texts))"
   ]
  },
  {
   "cell_type": "markdown",
   "metadata": {},
   "source": [
    "### Training LLM-distilbert"
   ]
  },
  {
   "cell_type": "code",
   "execution_count": 15,
   "metadata": {
    "execution": {
     "iopub.execute_input": "2025-09-23T10:52:06.651551Z",
     "iopub.status.busy": "2025-09-23T10:52:06.651273Z",
     "iopub.status.idle": "2025-09-23T10:52:20.763659Z",
     "shell.execute_reply": "2025-09-23T10:52:20.762981Z",
     "shell.execute_reply.started": "2025-09-23T10:52:06.651528Z"
    },
    "trusted": true
   },
   "outputs": [
    {
     "data": {
      "application/vnd.jupyter.widget-view+json": {
       "model_id": "bbd55dac8e5b417188bc843c738266f2",
       "version_major": 2,
       "version_minor": 0
      },
      "text/plain": [
       "tokenizer_config.json:   0%|          | 0.00/48.0 [00:00<?, ?B/s]"
      ]
     },
     "metadata": {},
     "output_type": "display_data"
    },
    {
     "data": {
      "application/vnd.jupyter.widget-view+json": {
       "model_id": "766b357da3fd4027a6f4eea779cd72f1",
       "version_major": 2,
       "version_minor": 0
      },
      "text/plain": [
       "config.json:   0%|          | 0.00/483 [00:00<?, ?B/s]"
      ]
     },
     "metadata": {},
     "output_type": "display_data"
    },
    {
     "data": {
      "application/vnd.jupyter.widget-view+json": {
       "model_id": "3eb4e0eebb344945a830883b3bcfe824",
       "version_major": 2,
       "version_minor": 0
      },
      "text/plain": [
       "vocab.txt:   0%|          | 0.00/232k [00:00<?, ?B/s]"
      ]
     },
     "metadata": {},
     "output_type": "display_data"
    },
    {
     "data": {
      "application/vnd.jupyter.widget-view+json": {
       "model_id": "c147a8c5e0ad4d58b0e58b63e8c6d23b",
       "version_major": 2,
       "version_minor": 0
      },
      "text/plain": [
       "tokenizer.json:   0%|          | 0.00/466k [00:00<?, ?B/s]"
      ]
     },
     "metadata": {},
     "output_type": "display_data"
    },
    {
     "name": "stdout",
     "output_type": "stream",
     "text": [
      "[101, 27984, 2232, 2019, 4540, 8985, 1998, 2358, 2890, 2361, 3759, 1012, 1012, 2821, 1996, 6569, 999, 102, 0, 0, 0, 0, 0, 0, 0, 0, 0, 0, 0, 0, 0, 0, 0, 0, 0, 0, 0, 0, 0, 0, 0, 0, 0, 0, 0, 0, 0, 0, 0, 0, 0, 0, 0, 0, 0, 0, 0, 0, 0, 0, 0, 0, 0, 0, 0, 0, 0, 0, 0, 0, 0, 0, 0, 0, 0, 0, 0, 0, 0, 0, 0, 0, 0, 0, 0, 0, 0, 0, 0, 0, 0, 0, 0, 0, 0, 0, 0, 0, 0, 0, 0, 0, 0, 0, 0, 0, 0, 0, 0, 0, 0, 0, 0, 0, 0, 0, 0, 0]\n",
      "[1, 1, 1, 1, 1, 1, 1, 1, 1, 1, 1, 1, 1, 1, 1, 1, 1, 1, 0, 0, 0, 0, 0, 0, 0, 0, 0, 0, 0, 0, 0, 0, 0, 0, 0, 0, 0, 0, 0, 0, 0, 0, 0, 0, 0, 0, 0, 0, 0, 0, 0, 0, 0, 0, 0, 0, 0, 0, 0, 0, 0, 0, 0, 0, 0, 0, 0, 0, 0, 0, 0, 0, 0, 0, 0, 0, 0, 0, 0, 0, 0, 0, 0, 0, 0, 0, 0, 0, 0, 0, 0, 0, 0, 0, 0, 0, 0, 0, 0, 0, 0, 0, 0, 0, 0, 0, 0, 0, 0, 0, 0, 0, 0, 0, 0, 0, 0, 0]\n"
     ]
    }
   ],
   "source": [
    "# Initialize tokenizer\n",
    "model_name = 'distilbert-base-uncased'\n",
    "tokenizer = AutoTokenizer.from_pretrained(model_name)\n",
    "\n",
    "# Tokenizing the texts\n",
    "train_encodings = tokenizer(train_texts, truncation=True, padding=True, max_length=128)\n",
    "val_encodings   = tokenizer(val_texts, truncation=True, padding=True, max_length=128)\n",
    "\n",
    "# Inspect a single example\n",
    "print(train_encodings['input_ids'][0])\n",
    "print(train_encodings['attention_mask'][0])"
   ]
  },
  {
   "cell_type": "code",
   "execution_count": 16,
   "metadata": {
    "execution": {
     "iopub.execute_input": "2025-09-23T10:52:20.764600Z",
     "iopub.status.busy": "2025-09-23T10:52:20.764405Z",
     "iopub.status.idle": "2025-09-23T10:52:28.877090Z",
     "shell.execute_reply": "2025-09-23T10:52:28.876459Z",
     "shell.execute_reply.started": "2025-09-23T10:52:20.764585Z"
    },
    "trusted": true
   },
   "outputs": [],
   "source": [
    "from datasets import Dataset\n",
    "\n",
    "# Training dataset\n",
    "train_dataset = Dataset.from_dict({\n",
    "    'input_ids': train_encodings['input_ids'],\n",
    "    'attention_mask': train_encodings['attention_mask'],\n",
    "    'labels': train_labels\n",
    "})\n",
    "\n",
    "# Validation dataset\n",
    "val_dataset = Dataset.from_dict({\n",
    "    'input_ids': val_encodings['input_ids'],\n",
    "    'attention_mask': val_encodings['attention_mask'],\n",
    "    'labels': val_labels\n",
    "})\n"
   ]
  },
  {
   "cell_type": "code",
   "execution_count": 17,
   "metadata": {
    "execution": {
     "iopub.execute_input": "2025-09-23T10:52:28.877950Z",
     "iopub.status.busy": "2025-09-23T10:52:28.877752Z",
     "iopub.status.idle": "2025-09-23T10:52:31.727140Z",
     "shell.execute_reply": "2025-09-23T10:52:31.726504Z",
     "shell.execute_reply.started": "2025-09-23T10:52:28.877936Z"
    },
    "trusted": true
   },
   "outputs": [
    {
     "data": {
      "application/vnd.jupyter.widget-view+json": {
       "model_id": "86709cc7e9864bc1bfffa0667facd5f8",
       "version_major": 2,
       "version_minor": 0
      },
      "text/plain": [
       "model.safetensors:   0%|          | 0.00/268M [00:00<?, ?B/s]"
      ]
     },
     "metadata": {},
     "output_type": "display_data"
    },
    {
     "name": "stderr",
     "output_type": "stream",
     "text": [
      "Some weights of DistilBertForSequenceClassification were not initialized from the model checkpoint at distilbert-base-uncased and are newly initialized: ['classifier.bias', 'classifier.weight', 'pre_classifier.bias', 'pre_classifier.weight']\n",
      "You should probably TRAIN this model on a down-stream task to be able to use it for predictions and inference.\n"
     ]
    },
    {
     "data": {
      "text/plain": [
       "DistilBertForSequenceClassification(\n",
       "  (distilbert): DistilBertModel(\n",
       "    (embeddings): Embeddings(\n",
       "      (word_embeddings): Embedding(30522, 768, padding_idx=0)\n",
       "      (position_embeddings): Embedding(512, 768)\n",
       "      (LayerNorm): LayerNorm((768,), eps=1e-12, elementwise_affine=True)\n",
       "      (dropout): Dropout(p=0.1, inplace=False)\n",
       "    )\n",
       "    (transformer): Transformer(\n",
       "      (layer): ModuleList(\n",
       "        (0-5): 6 x TransformerBlock(\n",
       "          (attention): DistilBertSdpaAttention(\n",
       "            (dropout): Dropout(p=0.1, inplace=False)\n",
       "            (q_lin): Linear(in_features=768, out_features=768, bias=True)\n",
       "            (k_lin): Linear(in_features=768, out_features=768, bias=True)\n",
       "            (v_lin): Linear(in_features=768, out_features=768, bias=True)\n",
       "            (out_lin): Linear(in_features=768, out_features=768, bias=True)\n",
       "          )\n",
       "          (sa_layer_norm): LayerNorm((768,), eps=1e-12, elementwise_affine=True)\n",
       "          (ffn): FFN(\n",
       "            (dropout): Dropout(p=0.1, inplace=False)\n",
       "            (lin1): Linear(in_features=768, out_features=3072, bias=True)\n",
       "            (lin2): Linear(in_features=3072, out_features=768, bias=True)\n",
       "            (activation): GELUActivation()\n",
       "          )\n",
       "          (output_layer_norm): LayerNorm((768,), eps=1e-12, elementwise_affine=True)\n",
       "        )\n",
       "      )\n",
       "    )\n",
       "  )\n",
       "  (pre_classifier): Linear(in_features=768, out_features=768, bias=True)\n",
       "  (classifier): Linear(in_features=768, out_features=2, bias=True)\n",
       "  (dropout): Dropout(p=0.2, inplace=False)\n",
       ")"
      ]
     },
     "execution_count": 17,
     "metadata": {},
     "output_type": "execute_result"
    }
   ],
   "source": [
    "# Load the pre-trained model\n",
    "model=AutoModelForSequenceClassification.from_pretrained(model_name,num_labels=2)\n",
    "model.to(device)"
   ]
  },
  {
   "cell_type": "code",
   "execution_count": 22,
   "metadata": {
    "execution": {
     "iopub.execute_input": "2025-09-23T11:08:07.711623Z",
     "iopub.status.busy": "2025-09-23T11:08:07.711355Z",
     "iopub.status.idle": "2025-09-23T11:08:07.716148Z",
     "shell.execute_reply": "2025-09-23T11:08:07.715439Z",
     "shell.execute_reply.started": "2025-09-23T11:08:07.711604Z"
    },
    "trusted": true
   },
   "outputs": [],
   "source": [
    "from sklearn.metrics import f1_score, accuracy_score\n",
    "# Compute metrics function\n",
    "def compute_metrics(pred):\n",
    "    labels = pred.label_ids\n",
    "    preds = pred.predictions.argmax(-1)\n",
    "    acc = accuracy_score(labels, preds)\n",
    "    f1 = f1_score(labels, preds, average='weighted')\n",
    "    return {'accuracy': acc, 'f1': f1}\n"
   ]
  },
  {
   "cell_type": "code",
   "execution_count": 23,
   "metadata": {
    "execution": {
     "iopub.execute_input": "2025-09-23T11:08:10.852352Z",
     "iopub.status.busy": "2025-09-23T11:08:10.851652Z",
     "iopub.status.idle": "2025-09-23T11:08:10.855684Z",
     "shell.execute_reply": "2025-09-23T11:08:10.855022Z",
     "shell.execute_reply.started": "2025-09-23T11:08:10.852325Z"
    },
    "trusted": true
   },
   "outputs": [],
   "source": [
    "# Early Stopping\n",
    "from transformers import EarlyStoppingCallback\n",
    "\n",
    "callbacks=[EarlyStoppingCallback(early_stopping_patience=2)]"
   ]
  },
  {
   "cell_type": "code",
   "execution_count": 24,
   "metadata": {
    "execution": {
     "iopub.execute_input": "2025-09-23T11:08:18.362291Z",
     "iopub.status.busy": "2025-09-23T11:08:18.361673Z",
     "iopub.status.idle": "2025-09-23T11:08:18.401806Z",
     "shell.execute_reply": "2025-09-23T11:08:18.401130Z",
     "shell.execute_reply.started": "2025-09-23T11:08:18.362266Z"
    },
    "trusted": true
   },
   "outputs": [],
   "source": [
    "# Training arguments\n",
    "training_args = TrainingArguments(\n",
    "    output_dir='kaggle/working/distilbert-tweet',\n",
    "    run_name='sentiment_classification',\n",
    "    eval_strategy='epoch',\n",
    "    save_strategy='epoch',\n",
    "    per_device_train_batch_size=32,\n",
    "    per_device_eval_batch_size=32,\n",
    "    num_train_epochs=3,\n",
    "    weight_decay=0.01,\n",
    "    logging_dir='./logs',\n",
    "    logging_steps=500,\n",
    "    save_total_limit=2,\n",
    "    load_best_model_at_end=True,\n",
    "    report_to='none',\n",
    ")\n",
    "\n",
    "# Trainer\n",
    "trainer = Trainer(\n",
    "    model=model,\n",
    "    args=training_args,\n",
    "    train_dataset=train_dataset,\n",
    "    eval_dataset=val_dataset,\n",
    "    compute_metrics=compute_metrics,\n",
    "    callbacks=callbacks\n",
    ")"
   ]
  },
  {
   "cell_type": "code",
   "execution_count": 25,
   "metadata": {
    "execution": {
     "iopub.execute_input": "2025-09-23T11:08:22.852029Z",
     "iopub.status.busy": "2025-09-23T11:08:22.851737Z",
     "iopub.status.idle": "2025-09-23T11:53:12.263149Z",
     "shell.execute_reply": "2025-09-23T11:53:12.262310Z",
     "shell.execute_reply.started": "2025-09-23T11:08:22.852010Z"
    },
    "trusted": true
   },
   "outputs": [
    {
     "name": "stderr",
     "output_type": "stream",
     "text": [
      "/usr/local/lib/python3.11/dist-packages/torch/nn/parallel/_functions.py:70: UserWarning: Was asked to gather along dimension 0, but all input tensors were scalars; will instead unsqueeze and return a vector.\n",
      "  warnings.warn(\n"
     ]
    },
    {
     "data": {
      "text/html": [
       "\n",
       "    <div>\n",
       "      \n",
       "      <progress value='6564' max='6564' style='width:300px; height:20px; vertical-align: middle;'></progress>\n",
       "      [6564/6564 44:48, Epoch 3/3]\n",
       "    </div>\n",
       "    <table border=\"1\" class=\"dataframe\">\n",
       "  <thead>\n",
       " <tr style=\"text-align: left;\">\n",
       "      <th>Epoch</th>\n",
       "      <th>Training Loss</th>\n",
       "      <th>Validation Loss</th>\n",
       "      <th>Accuracy</th>\n",
       "      <th>F1</th>\n",
       "    </tr>\n",
       "  </thead>\n",
       "  <tbody>\n",
       "    <tr>\n",
       "      <td>1</td>\n",
       "      <td>0.190400</td>\n",
       "      <td>0.385624</td>\n",
       "      <td>0.838600</td>\n",
       "      <td>0.838568</td>\n",
       "    </tr>\n",
       "    <tr>\n",
       "      <td>2</td>\n",
       "      <td>0.199500</td>\n",
       "      <td>0.427372</td>\n",
       "      <td>0.841233</td>\n",
       "      <td>0.841209</td>\n",
       "    </tr>\n",
       "    <tr>\n",
       "      <td>3</td>\n",
       "      <td>0.109800</td>\n",
       "      <td>0.563471</td>\n",
       "      <td>0.839267</td>\n",
       "      <td>0.839267</td>\n",
       "    </tr>\n",
       "  </tbody>\n",
       "</table><p>"
      ],
      "text/plain": [
       "<IPython.core.display.HTML object>"
      ]
     },
     "metadata": {},
     "output_type": "display_data"
    },
    {
     "name": "stderr",
     "output_type": "stream",
     "text": [
      "/usr/local/lib/python3.11/dist-packages/torch/nn/parallel/_functions.py:70: UserWarning: Was asked to gather along dimension 0, but all input tensors were scalars; will instead unsqueeze and return a vector.\n",
      "  warnings.warn(\n",
      "/usr/local/lib/python3.11/dist-packages/torch/nn/parallel/_functions.py:70: UserWarning: Was asked to gather along dimension 0, but all input tensors were scalars; will instead unsqueeze and return a vector.\n",
      "  warnings.warn(\n"
     ]
    },
    {
     "data": {
      "text/plain": [
       "TrainOutput(global_step=6564, training_loss=0.1728663319570854, metrics={'train_runtime': 2688.532, 'train_samples_per_second': 156.219, 'train_steps_per_second': 2.441, 'total_flos': 1.282243022928e+16, 'train_loss': 0.1728663319570854, 'epoch': 3.0})"
      ]
     },
     "execution_count": 25,
     "metadata": {},
     "output_type": "execute_result"
    }
   ],
   "source": [
    "# Training the Model\n",
    "trainer.train()"
   ]
  },
  {
   "cell_type": "markdown",
   "metadata": {},
   "source": [
    "#### Save the model"
   ]
  },
  {
   "cell_type": "code",
   "execution_count": null,
   "metadata": {
    "trusted": true
   },
   "outputs": [],
   "source": [
    "trainer.save_model(\"./sentiment_model\")\n",
    "tokenizer.save_pretrained(\"./sentiment_model\")"
   ]
  },
  {
   "cell_type": "markdown",
   "metadata": {},
   "source": [
    "### Evaluating the model"
   ]
  },
  {
   "cell_type": "code",
   "execution_count": null,
   "metadata": {
    "trusted": true
   },
   "outputs": [],
   "source": [
    "# Make predictions on the validation set\n",
    "predictions = trainer.predict(val_dataset)\n",
    "\n",
    "# Get the predicted labels (by taking the argmax of the logits)\n",
    "predicted_labels = predictions.predictions.argmax(axis=-1)"
   ]
  },
  {
   "cell_type": "code",
   "execution_count": 27,
   "metadata": {
    "execution": {
     "iopub.execute_input": "2025-09-23T11:59:36.477650Z",
     "iopub.status.busy": "2025-09-23T11:59:36.477411Z",
     "iopub.status.idle": "2025-09-23T11:59:36.532932Z",
     "shell.execute_reply": "2025-09-23T11:59:36.531992Z",
     "shell.execute_reply.started": "2025-09-23T11:59:36.477631Z"
    },
    "trusted": true
   },
   "outputs": [
    {
     "name": "stdout",
     "output_type": "stream",
     "text": [
      "Accuracy: 83.86 %\n",
      "              precision    recall  f1-score   support\n",
      "\n",
      "    Negative       0.83      0.85      0.84     30000\n",
      "    Positive       0.85      0.82      0.84     30000\n",
      "\n",
      "    accuracy                           0.84     60000\n",
      "   macro avg       0.84      0.84      0.84     60000\n",
      "weighted avg       0.84      0.84      0.84     60000\n",
      "\n"
     ]
    }
   ],
   "source": [
    "# Calculating the accuracy\n",
    "accuracy = accuracy_score(val_labels, predicted_labels)\n",
    "print(f\"Accuracy: {accuracy*100:.2f} %\")\n",
    "\n",
    "# Generating detailed classification report\n",
    "report = classification_report(val_labels, predicted_labels, target_names=[\"Negative\", \"Positive\"])\n",
    "print(report)"
   ]
  },
  {
   "cell_type": "markdown",
   "metadata": {},
   "source": [
    "### Outcome\n",
    "- **Model:** DistilBERT (`distilbert-base-uncased`)  \n",
    "- **Dataset:** Sentiment140 (60k eval samples, 200k train subset)  \n",
    "- **Training Loss:** 0.173  \n",
    "- **Accuracy:** 83.86%  \n",
    "- **F1-score:** 0.84  \n",
    "- **Class-wise:**  \n",
    "  - Negative → Precision: 0.83, Recall: 0.85, F1: 0.84  \n",
    "  - Positive → Precision: 0.85, Recall: 0.82, F1: 0.84  \n",
    "\n",
    "### Notes / Observations\n",
    "- Achieved ~84% accuracy after 3 epochs.  \n",
    "- Training on GPU: ~156 samples/sec.  \n",
    "- Dataset balanced for positive/negative.  \n",
    "- Further tuning or more epochs could improve performance.  \n",
    "\n",
    "### References / Resources\n",
    "- [Hugging Face Transformers](https://huggingface.co/transformers)  \n",
    "- [Sentiment140 Dataset](https://www.kaggle.com/datasets/kazanova/sentiment140)\n"
   ]
  }
 ],
 "metadata": {
  "kaggle": {
   "accelerator": "none",
   "dataSources": [
    {
     "datasetId": 8321498,
     "sourceId": 13135343,
     "sourceType": "datasetVersion"
    }
   ],
   "dockerImageVersionId": 31089,
   "isGpuEnabled": false,
   "isInternetEnabled": true,
   "language": "python",
   "sourceType": "notebook"
  },
  "kernelspec": {
   "display_name": "Python 3",
   "language": "python",
   "name": "python3"
  },
  "language_info": {
   "codemirror_mode": {
    "name": "ipython",
    "version": 3
   },
   "file_extension": ".py",
   "mimetype": "text/x-python",
   "name": "python",
   "nbconvert_exporter": "python",
   "pygments_lexer": "ipython3",
   "version": "3.11.13"
  }
 },
 "nbformat": 4,
 "nbformat_minor": 4
}
